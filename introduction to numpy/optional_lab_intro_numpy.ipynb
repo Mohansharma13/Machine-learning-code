{
 "cells": [
  {
   "cell_type": "code",
   "execution_count": 1,
   "metadata": {},
   "outputs": [],
   "source": [
    "import numpy as np\n"
   ]
  },
  {
   "cell_type": "code",
   "execution_count": 8,
   "metadata": {},
   "outputs": [
    {
     "name": "stdout",
     "output_type": "stream",
     "text": [
      "[0. 0. 0. 0.] (4,)\n",
      "[0. 0. 0. 0.] (4,)\n",
      "[0.48499496 0.99763326 0.15089455 0.14949711] (4,)\n"
     ]
    }
   ],
   "source": [
    "a=np.zeros(4); print(a,a.shape)\n",
    "a=np.zeros(4,); print(a,a.shape)\n",
    "a=np.random.random_sample(4); print(a,a.shape)"
   ]
  },
  {
   "cell_type": "code",
   "execution_count": 11,
   "metadata": {},
   "outputs": [
    {
     "name": "stdout",
     "output_type": "stream",
     "text": [
      "[0. 1. 2. 3.] (4,)\n",
      "[0.80480673 0.53002856 0.7085743  0.36843295] (4,)\n"
     ]
    }
   ],
   "source": [
    "a=np.arange(4.);print(a,a.shape)\n",
    "a=np.random.rand(4); print(a,a.shape)"
   ]
  },
  {
   "cell_type": "code",
   "execution_count": 12,
   "metadata": {},
   "outputs": [
    {
     "name": "stdout",
     "output_type": "stream",
     "text": [
      "[1 1 1 1 1 1 1 1 1 1 1 1] (12,)\n"
     ]
    }
   ],
   "source": [
    "a=np.array([1,1,1,1,1,1,1,1,1,1,1,1]); print(a,a.shape)\n"
   ]
  },
  {
   "cell_type": "markdown",
   "metadata": {},
   "source": [
    "## Indexing"
   ]
  },
  {
   "cell_type": "code",
   "execution_count": 16,
   "metadata": {},
   "outputs": [
    {
     "name": "stdout",
     "output_type": "stream",
     "text": [
      "[0 1 2 3 4 5 6 7 8 9] (10,)\n",
      "2 ()\n",
      "Error in indexing\n",
      "index 10 is out of bounds for axis 0 with size 10\n"
     ]
    }
   ],
   "source": [
    "a=np.arange(10)\n",
    "print(a,a.shape)\n",
    "print(a[2],a[2].shape) # scaler dont have any dimensions\n",
    "\n",
    "try:\n",
    "    a[10]\n",
    "except Exception as e:\n",
    "    print(\"Error in indexing\")\n",
    "    print(e)"
   ]
  },
  {
   "cell_type": "markdown",
   "metadata": {},
   "source": [
    "## Slicing"
   ]
  },
  {
   "cell_type": "code",
   "execution_count": 25,
   "metadata": {},
   "outputs": [
    {
     "name": "stdout",
     "output_type": "stream",
     "text": [
      "[0 1 2 3 4 5 6 7 8 9] (10,)\n",
      "[0 1 2 3 4 5 6 7 8 9]\n",
      "[2 4 6]\n",
      "[2 3 4 5 6 7 8 9]\n",
      "[0 1 2 3]\n"
     ]
    }
   ],
   "source": [
    "a=np.arange(10)\n",
    "print(a,a.shape)\n",
    "print(a[:]) # print all the elements of a\n",
    "print(a[2:7:2]) #start:end:step\n",
    "print(a[2:]) # 2 or 2 se aagay\n",
    "print(a[:4]) # 4 is not included"
   ]
  },
  {
   "cell_type": "markdown",
   "metadata": {},
   "source": [
    "## vector oprations"
   ]
  },
  {
   "cell_type": "code",
   "execution_count": 30,
   "metadata": {},
   "outputs": [
    {
     "name": "stdout",
     "output_type": "stream",
     "text": [
      "[ 0  1  2  3  4  5  6  7  8  9 10 11 12 13 14 15 16 17 18 19]\n",
      "9.5\n",
      "190\n",
      "[  0   1   4   9  16  25  36  49  64  81 100 121 144 169 196 225 256 289\n",
      " 324 361]\n"
     ]
    }
   ],
   "source": [
    "a=np.arange(20) ;print(a)\n",
    "\n",
    "print(np.mean(a))\n",
    "print(np.sum(a)) \n",
    "print(a**2)\n"
   ]
  },
  {
   "cell_type": "code",
   "execution_count": 35,
   "metadata": {},
   "outputs": [
    {
     "name": "stdout",
     "output_type": "stream",
     "text": [
      "[20 21 22 23 24 25 26 27 28 29 30 31 32 33 34 35 36 37 38 39]\n",
      "[100 105 110 115 120 125 130 135 140 145 150 155 160 165 170 175 180 185\n",
      " 190 195]\n",
      "[20 22 24 26 28 30 32 34 36 38 40 42 44 46 48 50 52 54 56 58]\n",
      "6270\n"
     ]
    }
   ],
   "source": [
    "b=np.arange(20,40)\n",
    "print(b)\n",
    "print(b*5)\n",
    "print(a+b)\n",
    "print(np.dot(a,b))\n"
   ]
  },
  {
   "cell_type": "code",
   "execution_count": 36,
   "metadata": {},
   "outputs": [],
   "source": [
    "import time"
   ]
  },
  {
   "cell_type": "code",
   "execution_count": 45,
   "metadata": {},
   "outputs": [],
   "source": [
    "# dot product using  for loop\n",
    "def my_dot_product(a,b):\n",
    "    total=0\n",
    "    \n",
    "    for i in range(len(a)):\n",
    "        total=total+a[i]*b[i]\n",
    "    \n",
    "    return(total)\n",
    "    "
   ]
  },
  {
   "cell_type": "code",
   "execution_count": 47,
   "metadata": {},
   "outputs": [
    {
     "name": "stdout",
     "output_type": "stream",
     "text": [
      "0.9677410125732422 ms\n",
      "251.62863731384277 ms\n"
     ]
    }
   ],
   "source": [
    "a=np.random.rand(1000000)\n",
    "b=np.random.rand(1000000)\n",
    "\n",
    "tic=time.time()\n",
    "c=np.dot(a,b)\n",
    "tok=time.time()\n",
    "\n",
    "print((tok-tic)*1000,\"ms\")\n",
    "\n",
    "tic=time.time()\n",
    "c=my_dot_product(a,b)\n",
    "tok=time.time()\n",
    "\n",
    "print((tok-tic)*1000,\"ms\")\n",
    "del(a,b)"
   ]
  },
  {
   "cell_type": "code",
   "execution_count": null,
   "metadata": {},
   "outputs": [],
   "source": []
  }
 ],
 "metadata": {
  "kernelspec": {
   "display_name": "base",
   "language": "python",
   "name": "python3"
  },
  "language_info": {
   "codemirror_mode": {
    "name": "ipython",
    "version": 3
   },
   "file_extension": ".py",
   "mimetype": "text/x-python",
   "name": "python",
   "nbconvert_exporter": "python",
   "pygments_lexer": "ipython3",
   "version": "3.11.5"
  }
 },
 "nbformat": 4,
 "nbformat_minor": 2
}
